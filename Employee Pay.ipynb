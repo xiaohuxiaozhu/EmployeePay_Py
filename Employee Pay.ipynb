{
 "cells": [
  {
   "cell_type": "code",
   "execution_count": 1,
   "metadata": {},
   "outputs": [],
   "source": [
    "import pandas as pd\n",
    "import numpy as np\n"
   ]
  },
  {
   "cell_type": "code",
   "execution_count": 2,
   "metadata": {},
   "outputs": [
    {
     "data": {
      "text/html": [
       "<div>\n",
       "<style scoped>\n",
       "    .dataframe tbody tr th:only-of-type {\n",
       "        vertical-align: middle;\n",
       "    }\n",
       "\n",
       "    .dataframe tbody tr th {\n",
       "        vertical-align: top;\n",
       "    }\n",
       "\n",
       "    .dataframe thead th {\n",
       "        text-align: right;\n",
       "    }\n",
       "</style>\n",
       "<table border=\"1\" class=\"dataframe\">\n",
       "  <thead>\n",
       "    <tr style=\"text-align: right;\">\n",
       "      <th></th>\n",
       "      <th>name</th>\n",
       "      <th>payRate</th>\n",
       "      <th>hoursWorked</th>\n",
       "    </tr>\n",
       "  </thead>\n",
       "  <tbody>\n",
       "    <tr>\n",
       "      <th>1</th>\n",
       "      <td>Mary</td>\n",
       "      <td>15.0</td>\n",
       "      <td>40</td>\n",
       "    </tr>\n",
       "    <tr>\n",
       "      <th>2</th>\n",
       "      <td>John</td>\n",
       "      <td>22.0</td>\n",
       "      <td>25</td>\n",
       "    </tr>\n",
       "    <tr>\n",
       "      <th>3</th>\n",
       "      <td>Bob</td>\n",
       "      <td>35.0</td>\n",
       "      <td>4</td>\n",
       "    </tr>\n",
       "    <tr>\n",
       "      <th>4</th>\n",
       "      <td>Mel</td>\n",
       "      <td>43.0</td>\n",
       "      <td>62</td>\n",
       "    </tr>\n",
       "    <tr>\n",
       "      <th>5</th>\n",
       "      <td>Jen</td>\n",
       "      <td>17.0</td>\n",
       "      <td>33</td>\n",
       "    </tr>\n",
       "  </tbody>\n",
       "</table>\n",
       "</div>"
      ],
      "text/plain": [
       "   name  payRate  hoursWorked\n",
       "1  Mary     15.0           40\n",
       "2  John     22.0           25\n",
       "3   Bob     35.0            4\n",
       "4   Mel     43.0           62\n",
       "5   Jen     17.0           33"
      ]
     },
     "execution_count": 2,
     "metadata": {},
     "output_type": "execute_result"
    }
   ],
   "source": [
    "\n",
    "df = pd.DataFrame( \n",
    "\n",
    " \n",
    " {\"name\" : [\"Mary\",\"John\",\"Bob\",\"Mel\",\"Jen\",\"Sue\",\"Ken\",\"Dave\",\"Beth\",\"Ray\"],\n",
    "   \"payRate\" : [15,22,35,43,17,29,40,20,37,16.5],\n",
    "    \"hoursWorked\" : [40,25,4,62,33,45,36,17,37,80]},\n",
    "    index = [1,2,3,4,5,6,7,8,9,10])\n",
    "df.head()\n",
    " "
   ]
  },
  {
   "cell_type": "code",
   "execution_count": 6,
   "metadata": {},
   "outputs": [],
   "source": [
    "emplyeeList = [ {'id': \"001\", 'name':\"Mary\", 'payRate':15, 'workHour': 40},\n",
    "{'id': \"002\", 'name':\"John\", 'payRate':22, 'workHour': 25},\n",
    "{'id': \"003\", 'name':\"Bob\", 'payRate':35, 'workHour': 4},\n",
    "{'id': \"004\", 'name':\"Mel\", 'payRate':43, 'workHour': 62},\n",
    "{'id': \"005\", 'name':\"Jen\", 'payRate':17, 'workHour': 33},\n",
    "{'id': \"006\", 'name':\"Sue\", 'payRate':29, 'workHour': 45},\n",
    "{'id': \"007\", 'name':\"Ken\", 'payRate':40, 'workHour': 36},\n",
    "{'id': \"008\", 'name':\"Dave\", 'payRate':20, 'workHour': 17},\n",
    "{'id': \"009\", 'name':\"Beth\", 'payRate':37, 'workHour': 37},\n",
    "{'id': \"010\", 'name':\"Ray\", 'payRate':16.5, 'workHour': 80}\n",
    "]\n",
    "\n"
   ]
  },
  {
   "cell_type": "code",
   "execution_count": 12,
   "metadata": {},
   "outputs": [
    {
     "name": "stdout",
     "output_type": "stream",
     "text": [
      "name: Mary  salary: 600\n",
      "name: John  salary: 550\n",
      "name: Bob  salary: 140\n",
      "name: Mel  salary: 3139.0\n",
      "name: Jen  salary: 561\n",
      "name: Sue  salary: 1377.5\n",
      "name: Ken  salary: 1440\n",
      "name: Dave  salary: 340\n",
      "name: Beth  salary: 1369\n",
      "name: Ray  salary: 1650.0\n"
     ]
    }
   ],
   "source": [
    "for employee in emplyeeList:\n",
    "    if employee['workHour']<=40:\n",
    "        salary = employee['payRate']*employee['workHour']\n",
    "        print(\"name:\", employee['name'], \" salary:\" , salary)\n",
    "    elif employee['workHour'] >40:\n",
    "        salary = employee['payRate']*40 + (1.5*employee['payRate'])*(employee['workHour']-40)\n",
    "     \n",
    "        print(\"name:\", employee['name'], \" salary:\" , salary)"
   ]
  },
  {
   "cell_type": "code",
   "execution_count": null,
   "metadata": {},
   "outputs": [],
   "source": []
  }
 ],
 "metadata": {
  "kernelspec": {
   "display_name": "Python 3",
   "language": "python",
   "name": "python3"
  },
  "language_info": {
   "codemirror_mode": {
    "name": "ipython",
    "version": 3
   },
   "file_extension": ".py",
   "mimetype": "text/x-python",
   "name": "python",
   "nbconvert_exporter": "python",
   "pygments_lexer": "ipython3",
   "version": "3.7.3"
  }
 },
 "nbformat": 4,
 "nbformat_minor": 2
}
